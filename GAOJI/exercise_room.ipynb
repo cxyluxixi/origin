{
 "cells": [
  {
   "cell_type": "code",
   "execution_count": 4,
   "metadata": {},
   "outputs": [
    {
     "name": "stdout",
     "output_type": "stream",
     "text": [
      "Requirement already satisfied: openpyxl in c:\\users\\mxlu\\appdata\\local\\continuum\\anaconda3\\lib\\site-packages (3.0.0)\n",
      "Requirement already satisfied: et-xmlfile in c:\\users\\mxlu\\appdata\\local\\continuum\\anaconda3\\lib\\site-packages (from openpyxl) (1.0.1)\n",
      "Requirement already satisfied: jdcal in c:\\users\\mxlu\\appdata\\local\\continuum\\anaconda3\\lib\\site-packages (from openpyxl) (1.4.1)\n",
      "Note: you may need to restart the kernel to use updated packages.\n"
     ]
    }
   ],
   "source": [
    "pip install openpyxl"
   ]
  },
  {
   "cell_type": "code",
   "execution_count": 30,
   "metadata": {},
   "outputs": [
    {
     "name": "stdout",
     "output_type": "stream",
     "text": [
      "    a                             b\n",
      "    A   B   C   D                 X\n",
      "0  A0  B0  C0  D0  [X0, X1, X2, X3]\n",
      "1  A1  B1  C1  D1      [1, 2, 3, 4]\n",
      "2  A2  B2  C2  D2               NaN\n",
      "3  A3  B3  C3  D3               NaN\n",
      "[('bar', 'one'), ('bar', 'two'), ('baz', 'one'), ('baz', 'two'), ('foo', 'one'), ('foo', 'two'), ('qux', 'one'), ('qux', 'two')]\n"
     ]
    }
   ],
   "source": [
    "import pandas as pd \n",
    "\n",
    "s1 = pd.Series([['X0', 'X1', 'X2', 'X3'],['1','2','3','4']],name='X')\n",
    "df = pd.DataFrame({'A':['A0', 'A1', 'A2', 'A3'],\\\n",
    "                   'B':['B0', 'B1', 'B2', 'B3'],\\\n",
    "                   'C':['C0', 'C1', 'C2', 'C3'],\\\n",
    "                   'D':['D0', 'D1', 'D2', 'D3']},index=[0, 1, 2, 3])\n",
    "\n",
    "\n",
    "# 列名更新，keys里面虽然写的五个，但是前面的objs=[df,s1],只有两个，所以只能更改df第一列，和s1第一列\n",
    "result = pd.concat([df,s1],axis =1,keys=['a','b','c','e','f'])\n",
    "print(result)\n",
    "tuples = list(zip(*[['bar', 'bar', 'baz', 'baz','foo', 'foo', 'qux', 'qux'],['one', 'two', 'one', 'two', 'one', 'two', 'one', 'two']]))\n",
    "print(tuples)\n",
    "\n",
    "\n"
   ]
  },
  {
   "cell_type": "code",
   "execution_count": 8,
   "metadata": {},
   "outputs": [
    {
     "name": "stdout",
     "output_type": "stream",
     "text": [
      "0    very good\n",
      "1         good\n",
      "2         good\n",
      "3       medium\n",
      "4    very good\n",
      "5     very bad\n",
      "Name: grade, dtype: category\n",
      "Categories (5, object): [very bad, bad, medium, good, very good]\n"
     ]
    }
   ],
   "source": [
    "import pandas as pd\n",
    "df = pd.DataFrame({\"id\":[1,2,3,4,5,6], \"raw_grade\":['a', 'b', 'b', 'c', 'a', 'e']})\n",
    "df[\"grade\"] = df[\"raw_grade\"].astype(\"category\")\n",
    "df[\"grade\"].cat.categories = [\"very good\", \"good\",\"medium\", \"very bad\"]\n",
    "df[\"grade\"] = df[\"grade\"].cat.set_categories([\"very bad\", \"bad\", \"medium\", \"good\", \"very good\"])\n",
    "#  \"good\", \"very good\"\n",
    "print(df[\"grade\"])"
   ]
  },
  {
   "cell_type": "code",
   "execution_count": 1,
   "metadata": {},
   "outputs": [
    {
     "ename": "KeyError",
     "evalue": "'现进价'",
     "output_type": "error",
     "traceback": [
      "\u001b[1;31m---------------------------------------------------------------------------\u001b[0m",
      "\u001b[1;31mKeyError\u001b[0m                                  Traceback (most recent call last)",
      "\u001b[1;32m~\\AppData\\Local\\Continuum\\anaconda3\\lib\\site-packages\\pandas\\core\\indexes\\base.py\u001b[0m in \u001b[0;36mget_loc\u001b[1;34m(self, key, method, tolerance)\u001b[0m\n\u001b[0;32m   2896\u001b[0m             \u001b[1;32mtry\u001b[0m\u001b[1;33m:\u001b[0m\u001b[1;33m\u001b[0m\u001b[1;33m\u001b[0m\u001b[0m\n\u001b[1;32m-> 2897\u001b[1;33m                 \u001b[1;32mreturn\u001b[0m \u001b[0mself\u001b[0m\u001b[1;33m.\u001b[0m\u001b[0m_engine\u001b[0m\u001b[1;33m.\u001b[0m\u001b[0mget_loc\u001b[0m\u001b[1;33m(\u001b[0m\u001b[0mkey\u001b[0m\u001b[1;33m)\u001b[0m\u001b[1;33m\u001b[0m\u001b[1;33m\u001b[0m\u001b[0m\n\u001b[0m\u001b[0;32m   2898\u001b[0m             \u001b[1;32mexcept\u001b[0m \u001b[0mKeyError\u001b[0m\u001b[1;33m:\u001b[0m\u001b[1;33m\u001b[0m\u001b[1;33m\u001b[0m\u001b[0m\n",
      "\u001b[1;32mpandas\\_libs\\index.pyx\u001b[0m in \u001b[0;36mpandas._libs.index.IndexEngine.get_loc\u001b[1;34m()\u001b[0m\n",
      "\u001b[1;32mpandas\\_libs\\index.pyx\u001b[0m in \u001b[0;36mpandas._libs.index.IndexEngine.get_loc\u001b[1;34m()\u001b[0m\n",
      "\u001b[1;32mpandas\\_libs\\index.pyx\u001b[0m in \u001b[0;36mpandas._libs.index.IndexEngine._get_loc_duplicates\u001b[1;34m()\u001b[0m\n",
      "\u001b[1;32mpandas\\_libs\\index.pyx\u001b[0m in \u001b[0;36mpandas._libs.index.IndexEngine._maybe_get_bool_indexer\u001b[1;34m()\u001b[0m\n",
      "\u001b[1;31mKeyError\u001b[0m: '现进价'",
      "\nDuring handling of the above exception, another exception occurred:\n",
      "\u001b[1;31mKeyError\u001b[0m                                  Traceback (most recent call last)",
      "\u001b[1;32m<ipython-input-1-aff773cd1ef5>\u001b[0m in \u001b[0;36m<module>\u001b[1;34m\u001b[0m\n\u001b[0;32m     26\u001b[0m \u001b[1;31m#     print(df.head)\u001b[0m\u001b[1;33m\u001b[0m\u001b[1;33m\u001b[0m\u001b[1;33m\u001b[0m\u001b[0m\n\u001b[0;32m     27\u001b[0m \u001b[1;33m\u001b[0m\u001b[0m\n\u001b[1;32m---> 28\u001b[1;33m \u001b[0mx\u001b[0m \u001b[1;33m=\u001b[0m\u001b[0mpd\u001b[0m\u001b[1;33m.\u001b[0m\u001b[0mto_numeric\u001b[0m\u001b[1;33m(\u001b[0m\u001b[0mdf\u001b[0m\u001b[1;33m[\u001b[0m\u001b[1;34m\"现进价\"\u001b[0m\u001b[1;33m]\u001b[0m\u001b[1;33m)\u001b[0m\u001b[1;33m\u001b[0m\u001b[1;33m\u001b[0m\u001b[0m\n\u001b[0m\u001b[0;32m     29\u001b[0m \u001b[0my\u001b[0m \u001b[1;33m=\u001b[0m\u001b[0mpd\u001b[0m\u001b[1;33m.\u001b[0m\u001b[0mto_numeric\u001b[0m\u001b[1;33m(\u001b[0m\u001b[0mdf\u001b[0m\u001b[1;33m[\u001b[0m\u001b[1;34m'谈判后采最新进价：元（开票价）'\u001b[0m\u001b[1;33m]\u001b[0m\u001b[1;33m)\u001b[0m\u001b[1;33m\u001b[0m\u001b[1;33m\u001b[0m\u001b[0m\n\u001b[0;32m     30\u001b[0m \u001b[0mresult\u001b[0m \u001b[1;33m=\u001b[0m \u001b[0mpd\u001b[0m\u001b[1;33m.\u001b[0m\u001b[0mconcat\u001b[0m\u001b[1;33m(\u001b[0m\u001b[1;33m[\u001b[0m\u001b[0mx\u001b[0m\u001b[1;33m,\u001b[0m\u001b[0my\u001b[0m\u001b[1;33m]\u001b[0m\u001b[1;33m,\u001b[0m\u001b[0maxis\u001b[0m\u001b[1;33m=\u001b[0m\u001b[1;36m1\u001b[0m\u001b[1;33m,\u001b[0m\u001b[0mnames\u001b[0m\u001b[1;33m=\u001b[0m\u001b[1;33m[\u001b[0m\u001b[1;34m\"谈判前进价\"\u001b[0m\u001b[1;33m,\u001b[0m\u001b[1;34m\"谈判后进价\"\u001b[0m\u001b[1;33m]\u001b[0m\u001b[1;33m)\u001b[0m\u001b[1;33m\u001b[0m\u001b[1;33m\u001b[0m\u001b[0m\n",
      "\u001b[1;32m~\\AppData\\Local\\Continuum\\anaconda3\\lib\\site-packages\\pandas\\core\\frame.py\u001b[0m in \u001b[0;36m__getitem__\u001b[1;34m(self, key)\u001b[0m\n\u001b[0;32m   2978\u001b[0m             \u001b[1;32mif\u001b[0m \u001b[0mself\u001b[0m\u001b[1;33m.\u001b[0m\u001b[0mcolumns\u001b[0m\u001b[1;33m.\u001b[0m\u001b[0mnlevels\u001b[0m \u001b[1;33m>\u001b[0m \u001b[1;36m1\u001b[0m\u001b[1;33m:\u001b[0m\u001b[1;33m\u001b[0m\u001b[1;33m\u001b[0m\u001b[0m\n\u001b[0;32m   2979\u001b[0m                 \u001b[1;32mreturn\u001b[0m \u001b[0mself\u001b[0m\u001b[1;33m.\u001b[0m\u001b[0m_getitem_multilevel\u001b[0m\u001b[1;33m(\u001b[0m\u001b[0mkey\u001b[0m\u001b[1;33m)\u001b[0m\u001b[1;33m\u001b[0m\u001b[1;33m\u001b[0m\u001b[0m\n\u001b[1;32m-> 2980\u001b[1;33m             \u001b[0mindexer\u001b[0m \u001b[1;33m=\u001b[0m \u001b[0mself\u001b[0m\u001b[1;33m.\u001b[0m\u001b[0mcolumns\u001b[0m\u001b[1;33m.\u001b[0m\u001b[0mget_loc\u001b[0m\u001b[1;33m(\u001b[0m\u001b[0mkey\u001b[0m\u001b[1;33m)\u001b[0m\u001b[1;33m\u001b[0m\u001b[1;33m\u001b[0m\u001b[0m\n\u001b[0m\u001b[0;32m   2981\u001b[0m             \u001b[1;32mif\u001b[0m \u001b[0mis_integer\u001b[0m\u001b[1;33m(\u001b[0m\u001b[0mindexer\u001b[0m\u001b[1;33m)\u001b[0m\u001b[1;33m:\u001b[0m\u001b[1;33m\u001b[0m\u001b[1;33m\u001b[0m\u001b[0m\n\u001b[0;32m   2982\u001b[0m                 \u001b[0mindexer\u001b[0m \u001b[1;33m=\u001b[0m \u001b[1;33m[\u001b[0m\u001b[0mindexer\u001b[0m\u001b[1;33m]\u001b[0m\u001b[1;33m\u001b[0m\u001b[1;33m\u001b[0m\u001b[0m\n",
      "\u001b[1;32m~\\AppData\\Local\\Continuum\\anaconda3\\lib\\site-packages\\pandas\\core\\indexes\\base.py\u001b[0m in \u001b[0;36mget_loc\u001b[1;34m(self, key, method, tolerance)\u001b[0m\n\u001b[0;32m   2897\u001b[0m                 \u001b[1;32mreturn\u001b[0m \u001b[0mself\u001b[0m\u001b[1;33m.\u001b[0m\u001b[0m_engine\u001b[0m\u001b[1;33m.\u001b[0m\u001b[0mget_loc\u001b[0m\u001b[1;33m(\u001b[0m\u001b[0mkey\u001b[0m\u001b[1;33m)\u001b[0m\u001b[1;33m\u001b[0m\u001b[1;33m\u001b[0m\u001b[0m\n\u001b[0;32m   2898\u001b[0m             \u001b[1;32mexcept\u001b[0m \u001b[0mKeyError\u001b[0m\u001b[1;33m:\u001b[0m\u001b[1;33m\u001b[0m\u001b[1;33m\u001b[0m\u001b[0m\n\u001b[1;32m-> 2899\u001b[1;33m                 \u001b[1;32mreturn\u001b[0m \u001b[0mself\u001b[0m\u001b[1;33m.\u001b[0m\u001b[0m_engine\u001b[0m\u001b[1;33m.\u001b[0m\u001b[0mget_loc\u001b[0m\u001b[1;33m(\u001b[0m\u001b[0mself\u001b[0m\u001b[1;33m.\u001b[0m\u001b[0m_maybe_cast_indexer\u001b[0m\u001b[1;33m(\u001b[0m\u001b[0mkey\u001b[0m\u001b[1;33m)\u001b[0m\u001b[1;33m)\u001b[0m\u001b[1;33m\u001b[0m\u001b[1;33m\u001b[0m\u001b[0m\n\u001b[0m\u001b[0;32m   2900\u001b[0m         \u001b[0mindexer\u001b[0m \u001b[1;33m=\u001b[0m \u001b[0mself\u001b[0m\u001b[1;33m.\u001b[0m\u001b[0mget_indexer\u001b[0m\u001b[1;33m(\u001b[0m\u001b[1;33m[\u001b[0m\u001b[0mkey\u001b[0m\u001b[1;33m]\u001b[0m\u001b[1;33m,\u001b[0m \u001b[0mmethod\u001b[0m\u001b[1;33m=\u001b[0m\u001b[0mmethod\u001b[0m\u001b[1;33m,\u001b[0m \u001b[0mtolerance\u001b[0m\u001b[1;33m=\u001b[0m\u001b[0mtolerance\u001b[0m\u001b[1;33m)\u001b[0m\u001b[1;33m\u001b[0m\u001b[1;33m\u001b[0m\u001b[0m\n\u001b[0;32m   2901\u001b[0m         \u001b[1;32mif\u001b[0m \u001b[0mindexer\u001b[0m\u001b[1;33m.\u001b[0m\u001b[0mndim\u001b[0m \u001b[1;33m>\u001b[0m \u001b[1;36m1\u001b[0m \u001b[1;32mor\u001b[0m \u001b[0mindexer\u001b[0m\u001b[1;33m.\u001b[0m\u001b[0msize\u001b[0m \u001b[1;33m>\u001b[0m \u001b[1;36m1\u001b[0m\u001b[1;33m:\u001b[0m\u001b[1;33m\u001b[0m\u001b[1;33m\u001b[0m\u001b[0m\n",
      "\u001b[1;32mpandas\\_libs\\index.pyx\u001b[0m in \u001b[0;36mpandas._libs.index.IndexEngine.get_loc\u001b[1;34m()\u001b[0m\n",
      "\u001b[1;32mpandas\\_libs\\index.pyx\u001b[0m in \u001b[0;36mpandas._libs.index.IndexEngine.get_loc\u001b[1;34m()\u001b[0m\n",
      "\u001b[1;32mpandas\\_libs\\index.pyx\u001b[0m in \u001b[0;36mpandas._libs.index.IndexEngine._get_loc_duplicates\u001b[1;34m()\u001b[0m\n",
      "\u001b[1;32mpandas\\_libs\\index.pyx\u001b[0m in \u001b[0;36mpandas._libs.index.IndexEngine._maybe_get_bool_indexer\u001b[1;34m()\u001b[0m\n",
      "\u001b[1;31mKeyError\u001b[0m: '现进价'"
     ]
    }
   ],
   "source": [
    "import pandas as pd\n",
    "import numpy as np\n",
    "import matplotlib as plt\n",
    "df = pd.DataFrame(np.random.randn(1000, 4), index=range(0,1000),columns=['A', 'B', 'C', 'D'])\n",
    "df = df.cumsum()\n",
    "df.plot()\n",
    "# plt.figure()\n",
    "\n",
    "\n",
    "import xlrd\n",
    "import pandas as pd\n",
    "from pandas import DataFrame\n",
    "import numpy as np\n",
    "import xlsxwriter\n",
    "import matplotlib.pyplot as plt\n",
    "\n",
    "\n",
    "file_address = \"D:\\商采-绩效分析-供应链\\比价-进价-跟进\\第三轮地采明细汇总_45周.xlsx\"\n",
    "data = pd.read_excel(file_address)\n",
    "plt.rcParams['font.sans-serif']=['SimHei'] #用来正常显示中文标签\n",
    "plt.rcParams['axes.unicode_minus']=False #用来正常显示负号\n",
    "df = pd.DataFrame(data)\n",
    "col_names = df.iloc[1,:]\n",
    "df = df.rename(columns=col_names)\n",
    "df.drop(index=[0,1],axis=0,inplace = True)\n",
    "#     print(df.head)\n",
    "\n",
    "x =pd.to_numeric(df[\"现进价\"])\n",
    "y =pd.to_numeric(df['谈判后采最新进价：元（开票价）'])\n",
    "result = pd.concat([x,y],axis=1,names=[\"谈判前进价\",\"谈判后进价\"])\n",
    "\n",
    "print(result)\n",
    "result.plot()\n",
    "\n",
    "\n"
   ]
  },
  {
   "cell_type": "code",
   "execution_count": 12,
   "metadata": {},
   "outputs": [
    {
     "name": "stdout",
     "output_type": "stream",
     "text": [
      "\n"
     ]
    },
    {
     "data": {
      "text/plain": [
       "<matplotlib.legend.Legend at 0x1e8c1c84b88>"
      ]
     },
     "execution_count": 12,
     "metadata": {},
     "output_type": "execute_result"
    },
    {
     "data": {
      "text/plain": [
       "<Figure size 432x288 with 0 Axes>"
      ]
     },
     "metadata": {},
     "output_type": "display_data"
    },
    {
     "data": {
      "image/png": "[encoded data removed]",
      "text/plain": [
       "<Figure size 432x288 with 1 Axes>"
      ]
     },
     "metadata": {
      "needs_background": "light"
     },
     "output_type": "display_data"
    }
   ],
   "source": [
    "import pandas as pd \n",
    "import numpy as np\n",
    "\n",
    "\n",
    "file_address = \"D:\\商采-绩效分析-供应链\\比价-进价-跟进\\第三轮地采明细汇总_45周.xlsx\"\n",
    "data = pd.read_excel(file_address)\n",
    "print()\n",
    "# data.drop()\n",
    "\n",
    "\n",
    "# 时间序列\n",
    "rng = pd.date_range('1/1/2012', periods=100, freq='S')\n",
    "ts = pd.Series(np.random.randint(0, 500, len(rng)), index=rng)\n",
    "\n",
    "\n",
    "\n",
    "# 分类， 并按照分类排序\n",
    "df = pd.DataFrame({\"id\":[1,2,3,4,5,6], \"raw_grade\":['a', 'b', 'b', 'a', 'a', 'e']})\n",
    "df[\"grade\"] = df[\"raw_grade\"].astype(\"category\")\n",
    "df[\"grade\"].cat.categories = [\"very good\", \"good\", \"very bad\"]\n",
    "df[\"grade\"] = df[\"grade\"].cat.set_categories([\"very bad\", \"bad\", \"medium\", \"good\", \"very good\"])\n",
    "df.sort_values(by=\"grade\")\n",
    "\n",
    "# 分组累计\n",
    "df.groupby(\"grade\").size()\n",
    "\n",
    "\n",
    "\n",
    "\n",
    "df = pd.DataFrame(np.random.randn(100, 4), index=ts.index, columns=['A', 'B', 'C', 'D'])\n",
    "\n",
    "\n",
    "df = df.cumsum()\n",
    "\n",
    "plt.figure(); df.plot(); plt.legend(loc='best')\n"
   ]
  },
  {
   "cell_type": "code",
   "execution_count": null,
   "metadata": {},
   "outputs": [],
   "source": [
    "\n",
    "# -*- coding: utf-8 -*-\n",
    "import xlrd\n",
    "import xlwt\n",
    "import sys\n",
    "\n",
    "def read(file_list,):\n",
    "\n",
    "    # 创建新的workbook\n",
    "    out_work_book = xlwt.Workbook(encoding = 'utf-8')\n",
    "    # 为了将多个文件的相同表头的sheet和并到一个sheet内，定义新sheet写入的行号位置\n",
    "    out_work_book_rows = [0,0]\n",
    "\n",
    "    # 取得传入的文件列表 （第一个参数为脚本名字）\n",
    "    for file_name in file_list[1:]:\n",
    "        # 打开文件\n",
    "        workbook = xlrd.open_workbook(file_name)\n",
    "        # 取得当前文档的sheet列表\n",
    "        sheet_names = workbook.sheet_names()\n",
    "\n",
    "\n",
    "        for sheet_idx in range(len(sheet_names)):\n",
    "            sheet_name = sheet_names[sheet_idx]\n",
    "            \n",
    "            # sheet = workbook.sheet_by_index(sheet_idx)\n",
    "            sheet = workbook.sheet_by_name(sheet_name)\n",
    "\n",
    "            # sheet.row_values(n)   获取整行数据\n",
    "            # sheet.col_values(n)   获取整列数据\n",
    "\n",
    "            # 获取行数\n",
    "            rows_count = sheet.nrows\n",
    "            # 获取列数\n",
    "            cols_count = sheet.ncols\n",
    "            # 存储写入的列数\n",
    "            write_col_count\n",
    "\n",
    "            # 创建新的sheet\n",
    "            if len(out_work_book_sheet) <= sheet_idx:\n",
    "                out_work_book_sheet[sheet_idx] = out_work_book.add_sheet('sheet'+sheet_idx)\n",
    "\n",
    "            # 写入sheet\n",
    "            for curr_col_num in range(cols_count):\n",
    "                # 当前列的内容\n",
    "                col = sheet.col_values(curr_col_num)\n",
    "                # 遍历当前列的所有选项\n",
    "                for index in range(len(col))\n",
    "                    # 当前列第index的内容\n",
    "                    value = col[index]\n",
    "                    # 在写入的sheet的行号上，加入上一个表写到的位置行号，继续向后追加内容\n",
    "                    out_work_book_sheet[sheet_idx].write(out_work_book_rows[sheet_idx] + index, write_col_count, value)\n",
    "                write_col_count++\n",
    "            out_work_book_rows[sheet_idx] += cols_count\n",
    "    # 输出目标文件\n",
    "    out_work_book.save('out.xls')\n",
    "\n",
    "    \n",
    "# 如何处理合并单元格数据的自动补充\n",
    "def get_merged_cells_value(sheet, row_index, col_index):\n",
    "\n",
    "    # 获得当前sheet的所有合并单元格数据\n",
    "    merged = sheet.merged_cells\n",
    "    # 判断给定的单元格，是否属于合并单元格，如果是合并单元格，就返回合并单元格的内容\n",
    "    for (rlow, rhigh, clow, chigh) in merged:\n",
    "        if (row_index >= rlow and row_index < rhigh):\n",
    "            if (col_index >= clow and col_index < chigh):\n",
    "                cell_value = sheet.cell_value(rlow, clow)\n",
    "                return cell_value\n",
    "    return None\n",
    "\n",
    "\n",
    "\n",
    "# 单元格里数据类型不同如何处理\n",
    "from datetime import datetime,date\n",
    "\n",
    "def get_merged_cells_value(workbook, sheet, row_index, col_index):\n",
    "\n",
    "    # 获得当前sheet的所有合并单元格数据\n",
    "    merged = sheet.merged_cells\n",
    "    # 判断给定的单元格，是否属于合并单元格，如果是合并单元格，就返回合并单元格的内容\n",
    "    for (rlow, rhigh, clow, chigh) in merged:\n",
    "        if (row_index >= rlow and row_index < rhigh):\n",
    "            if (col_index >= clow and col_index < chigh):\n",
    "\n",
    "                if sheet.cell(rlow, clow).ctype == 3:\n",
    "                    date_value = xlrd.xldate_as_tuple(sheet.cell(rlow, clow), workbook.datemode)\n",
    "                    # 转换显示格式为2019/05/05\n",
    "                    cell_value = date(*date_value[:3]).strftime('%Y/%m/%d')\n",
    "                else:\n",
    "                    cell_value = sheet.cell_value(rlow, clow)\n",
    "                \n",
    "                return cell_value\n",
    "    return None\n",
    "\n",
    "if __name__ == \"__main__\":\n",
    "    read(file_list)"
   ]
  }
 ],
 "metadata": {
  "kernelspec": {
   "display_name": "Python 3",
   "language": "python",
   "name": "python3"
  },
  "language_info": {
   "codemirror_mode": {
    "name": "ipython",
    "version": 3
   },
   "file_extension": ".py",
   "mimetype": "text/x-python",
   "name": "python",
   "nbconvert_exporter": "python",
   "pygments_lexer": "ipython3",
   "version": "3.7.4"
  }
 },
 "nbformat": 4,
 "nbformat_minor": 2
}
